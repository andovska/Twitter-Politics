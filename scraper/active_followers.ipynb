{
 "cells": [
  {
   "cell_type": "code",
   "execution_count": 2,
   "metadata": {},
   "outputs": [],
   "source": [
    "import tweepy\n",
    "import emoji\n",
    "\n",
    "import regex as re\n",
    "import numpy as np\n",
    "import pandas as pd\n",
    "\n",
    "from google.cloud import translate"
   ]
  },
  {
   "cell_type": "code",
   "execution_count": 3,
   "metadata": {},
   "outputs": [],
   "source": [
    "# Set authorization keys\n",
    "auth = tweepy.OAuthHandler('m0Buhp16DQJgVVH3iUGxtd8xb', '7q6HnOlEnBRfyLnq4amra7eGcsFfEAq5YS3ao85eS8SLr3R6O8')\n",
    "auth.set_access_token(\"1179698216071258112-CqXjSp4NbLYgxC0jmZZRWdtb8gWwjk\", \n",
    "    \"93p6a16YhBBtPerW7xJiSYu5pDcwTyYlAPfKKMWPVKAHp\")\n",
    "\n",
    "api = tweepy.API(auth, wait_on_rate_limit=True)"
   ]
  },
  {
   "cell_type": "code",
   "execution_count": 10,
   "metadata": {},
   "outputs": [],
   "source": [
    "M5S_NAME = '@Mov5Stelle'\n",
    "LEGA_NAME = '@LegaSalvini'\n",
    "PADE_NAME = '@pdnetwork'\n",
    "FORZA_NAME ='@forza_italia'\n",
    "\n",
    "party_names = [M5S_NAME, LEGA_NAME, PADE_NAME, FORZA_NAME]\n",
    "\n",
    "sample_user_id = 2149131133\n",
    "\n",
    "translate_client = translate.Client()"
   ]
  },
  {
   "cell_type": "code",
   "execution_count": 6,
   "metadata": {},
   "outputs": [],
   "source": [
    "def get_followers(name='@pdnetwork', size=1):\n",
    "    ids = []\n",
    "    stop = 0\n",
    "    for page in tweepy.Cursor(api.followers_ids, screen_name=\"@pdnetwork\").pages():\n",
    "        if stop>size:\n",
    "            break\n",
    "\n",
    "        stop+=1\n",
    "        ids.extend(page)\n",
    "    return ids"
   ]
  },
  {
   "cell_type": "code",
   "execution_count": 7,
   "metadata": {},
   "outputs": [],
   "source": [
    "def get_tweets_from_user(user_id):\n",
    "    try:\n",
    "        tweets = api.user_timeline(user_id, per_page=50)\n",
    "    except:\n",
    "        return None\n",
    "    \n",
    "    if len(tweets) < 10:\n",
    "        return None\n",
    "    \n",
    "    tweets_info = []\n",
    "    # relevant info from tweet (coordinates, place and geo removed due to null values)\n",
    "    tweet_info_needed = ['id_str', 'created_at', 'text',\n",
    "                         'is_quote_status', 'retweet_count', 'lang'\n",
    "                        ]\n",
    "    user_info_needed = ['name', 'location', 'description', 'id_str']\n",
    "    \n",
    "    for tweet in tweets:\n",
    "        to_append = {}\n",
    "        for info in tweet_info_needed:\n",
    "            to_append[info] = tweet._json[info]\n",
    "        \n",
    "        hashtags = tweet._json['entities']['hashtags']\n",
    "        \n",
    "        to_append['hashtags'] = []\n",
    "        for hashtag in hashtags:\n",
    "            to_append['hashtags'].append(hashtag['text'])\n",
    "        \n",
    "        for info in user_info_needed:\n",
    "            to_append['user_' + info] = tweet._json['user'][info]\n",
    "        \n",
    "        tweets_info.append(to_append)\n",
    "        \n",
    "    return tweets_info"
   ]
  },
  {
   "cell_type": "code",
   "execution_count": 8,
   "metadata": {},
   "outputs": [],
   "source": [
    "def get_emojis(text):\n",
    "    emoji_list = []\n",
    "    data = re.findall(r'\\X', text)\n",
    "    for word in data:\n",
    "        if any(char in emoji.UNICODE_EMOJI for char in word):\n",
    "            emoji_list.append(word)\n",
    "\n",
    "    return emoji_list"
   ]
  },
  {
   "cell_type": "code",
   "execution_count": 9,
   "metadata": {},
   "outputs": [],
   "source": [
    "def del_emojis(inputString):\n",
    "    return inputString.encode('ascii', 'ignore').decode('ascii')"
   ]
  },
  {
   "cell_type": "code",
   "execution_count": 16,
   "metadata": {},
   "outputs": [],
   "source": [
    "def translate_tweet(tweet_text, lang='en'):\n",
    "    return translate_client.translate(tweet_text, target_language=lang)['translatedText']"
   ]
  },
  {
   "cell_type": "code",
   "execution_count": 22,
   "metadata": {},
   "outputs": [],
   "source": [
    "def clean_tweet(tweet):\n",
    "    cleaned_tweet = re.sub('@\\S+', '', tweet) # Remove mentions\n",
    "    cleaned_tweet = re.sub('https\\S+', '', cleaned_tweet) # Remove urls\n",
    "    cleaned_tweet = re.sub('\\S+…', '', cleaned_tweet) # Remove truncated last word\n",
    "    cleaned_tweet = re.sub('#', '', cleaned_tweet)\n",
    "    cleaned_tweet = re.sub('\\n', '', cleaned_tweet)\n",
    "    cleaned_tweet = re.sub('\\t', '', cleaned_tweet)\n",
    "    \n",
    "    return cleaned_tweet.strip()"
   ]
  },
  {
   "cell_type": "code",
   "execution_count": 10,
   "metadata": {},
   "outputs": [],
   "source": [
    "def get_tweets_from_party_followers(party):\n",
    "    df = pd.DataFrame()\n",
    "    user_ids = get_followers(party)\n",
    "    \n",
    "    for user_id in user_ids:\n",
    "        tweets = get_tweets_from_user(user_id)\n",
    "        \n",
    "        if tweets == None:\n",
    "            continue\n",
    "        \n",
    "        if not is_user_valid(tweets):\n",
    "            continue\n",
    "        \n",
    "        for tweet in tweets:\n",
    "            df = df.append(tweet)\n",
    "        \n",
    "    return df"
   ]
  },
  {
   "cell_type": "code",
   "execution_count": 18,
   "metadata": {},
   "outputs": [],
   "source": [
    "PADE_ids = get_followers()"
   ]
  },
  {
   "cell_type": "code",
   "execution_count": 32,
   "metadata": {},
   "outputs": [],
   "source": [
    "PADE_ids = np.array(PADE_ids)\n",
    "np.save(PADE_NAME+'.npy', PADE_ids)"
   ]
  },
  {
   "cell_type": "code",
   "execution_count": 34,
   "metadata": {},
   "outputs": [
    {
     "data": {
      "text/plain": [
       "758072107981017089"
      ]
     },
     "execution_count": 34,
     "metadata": {},
     "output_type": "execute_result"
    }
   ],
   "source": [
    "np.load(PADE_NAME+'.npy')[0]"
   ]
  },
  {
   "cell_type": "code",
   "execution_count": 20,
   "metadata": {},
   "outputs": [
    {
     "name": "stdout",
     "output_type": "stream",
     "text": [
      "getting tweets for user with user_id: 758072107981017089\n",
      "getting tweets for user with user_id: 1167844224936685573\n",
      "getting tweets for user with user_id: 492216260\n",
      "getting tweets for user with user_id: 994918270041055233\n"
     ]
    }
   ],
   "source": [
    "df = pd.DataFrame()\n",
    "user_ids = PADE_ids[:10]\n",
    "\n",
    "empty_users = 0\n",
    "\n",
    "for user_id in user_ids:\n",
    "    tweets = get_tweets_from_user(user_id)\n",
    "        \n",
    "    if tweets == None:\n",
    "        empty_users+=1\n",
    "        continue\n",
    "    print(f'getting tweets for user with user_id: {user_id}')\n",
    "    for tweet in tweets:\n",
    "        df = df.append(tweet, ignore_index=True)"
   ]
  },
  {
   "cell_type": "code",
   "execution_count": 24,
   "metadata": {},
   "outputs": [],
   "source": [
    "df['clean_text'] = df['text'].apply(clean_tweet)\n",
    "df['emojis'] = df['text'].apply(get_emojis)"
   ]
  },
  {
   "cell_type": "code",
   "execution_count": 27,
   "metadata": {},
   "outputs": [],
   "source": [
    "df['translated_text'] = df['clean_text'].apply(translate_tweet)"
   ]
  },
  {
   "cell_type": "code",
   "execution_count": 28,
   "metadata": {},
   "outputs": [
    {
     "data": {
      "text/html": [
       "<div>\n",
       "<style scoped>\n",
       "    .dataframe tbody tr th:only-of-type {\n",
       "        vertical-align: middle;\n",
       "    }\n",
       "\n",
       "    .dataframe tbody tr th {\n",
       "        vertical-align: top;\n",
       "    }\n",
       "\n",
       "    .dataframe thead th {\n",
       "        text-align: right;\n",
       "    }\n",
       "</style>\n",
       "<table border=\"1\" class=\"dataframe\">\n",
       "  <thead>\n",
       "    <tr style=\"text-align: right;\">\n",
       "      <th></th>\n",
       "      <th>created_at</th>\n",
       "      <th>hashtags</th>\n",
       "      <th>id_str</th>\n",
       "      <th>is_quote_status</th>\n",
       "      <th>lang</th>\n",
       "      <th>retweet_count</th>\n",
       "      <th>text</th>\n",
       "      <th>user_description</th>\n",
       "      <th>user_id_str</th>\n",
       "      <th>user_location</th>\n",
       "      <th>user_name</th>\n",
       "      <th>clean_text</th>\n",
       "      <th>emojis</th>\n",
       "      <th>translated_text</th>\n",
       "    </tr>\n",
       "  </thead>\n",
       "  <tbody>\n",
       "    <tr>\n",
       "      <td>0</td>\n",
       "      <td>Sat May 18 11:58:18 +0000 2019</td>\n",
       "      <td>[]</td>\n",
       "      <td>1129717847859576832</td>\n",
       "      <td>0.0</td>\n",
       "      <td>pl</td>\n",
       "      <td>0.0</td>\n",
       "      <td>@CarloCalenda Daje!</td>\n",
       "      <td></td>\n",
       "      <td>758072107981017089</td>\n",
       "      <td></td>\n",
       "      <td>Mario Bochicchio</td>\n",
       "      <td>Daje!</td>\n",
       "      <td>[]</td>\n",
       "      <td>Gives!</td>\n",
       "    </tr>\n",
       "    <tr>\n",
       "      <td>1</td>\n",
       "      <td>Mon Mar 26 13:07:23 +0000 2018</td>\n",
       "      <td>[]</td>\n",
       "      <td>978257103822426115</td>\n",
       "      <td>0.0</td>\n",
       "      <td>it</td>\n",
       "      <td>0.0</td>\n",
       "      <td>Scarica Fare Soldi Guadagna Denaro. E' un'app ...</td>\n",
       "      <td></td>\n",
       "      <td>758072107981017089</td>\n",
       "      <td></td>\n",
       "      <td>Mario Bochicchio</td>\n",
       "      <td>Scarica Fare Soldi Guadagna Denaro. E' un'app ...</td>\n",
       "      <td>[]</td>\n",
       "      <td>Download Make Money Earn Money. It&amp;#39;s a fre...</td>\n",
       "    </tr>\n",
       "    <tr>\n",
       "      <td>2</td>\n",
       "      <td>Tue Mar 06 12:59:09 +0000 2018</td>\n",
       "      <td>[]</td>\n",
       "      <td>971007276755701760</td>\n",
       "      <td>0.0</td>\n",
       "      <td>it</td>\n",
       "      <td>0.0</td>\n",
       "      <td>@andreasso1951 @TraniCamilla Ahahahahahahahaha...</td>\n",
       "      <td></td>\n",
       "      <td>758072107981017089</td>\n",
       "      <td></td>\n",
       "      <td>Mario Bochicchio</td>\n",
       "      <td>AhahahahahahahahahhahahahahaScelti perché \"dic...</td>\n",
       "      <td>[]</td>\n",
       "      <td>Ahahahahahahahahahhahahahaha Chosen because &amp;q...</td>\n",
       "    </tr>\n",
       "    <tr>\n",
       "      <td>3</td>\n",
       "      <td>Tue Nov 14 14:17:26 +0000 2017</td>\n",
       "      <td>[]</td>\n",
       "      <td>930439536810844161</td>\n",
       "      <td>0.0</td>\n",
       "      <td>en</td>\n",
       "      <td>0.0</td>\n",
       "      <td>@Ballack Only the losers enjoy the defeats of ...</td>\n",
       "      <td></td>\n",
       "      <td>758072107981017089</td>\n",
       "      <td></td>\n",
       "      <td>Mario Bochicchio</td>\n",
       "      <td>Only the losers enjoy the defeats of those who...</td>\n",
       "      <td>[]</td>\n",
       "      <td>Only the losers enjoy the defeats of those who...</td>\n",
       "    </tr>\n",
       "    <tr>\n",
       "      <td>4</td>\n",
       "      <td>Fri Jun 02 09:30:52 +0000 2017</td>\n",
       "      <td>[]</td>\n",
       "      <td>870573420790108160</td>\n",
       "      <td>0.0</td>\n",
       "      <td>de</td>\n",
       "      <td>0.0</td>\n",
       "      <td>Zum 2. Jahrestag werden verschiedene Kampagnen...</td>\n",
       "      <td></td>\n",
       "      <td>758072107981017089</td>\n",
       "      <td></td>\n",
       "      <td>Mario Bochicchio</td>\n",
       "      <td>Zum 2. Jahrestag werden verschiedene Kampagnen...</td>\n",
       "      <td>[]</td>\n",
       "      <td>For the 2nd anniversary different campaigns ar...</td>\n",
       "    </tr>\n",
       "  </tbody>\n",
       "</table>\n",
       "</div>"
      ],
      "text/plain": [
       "                       created_at hashtags               id_str  \\\n",
       "0  Sat May 18 11:58:18 +0000 2019       []  1129717847859576832   \n",
       "1  Mon Mar 26 13:07:23 +0000 2018       []   978257103822426115   \n",
       "2  Tue Mar 06 12:59:09 +0000 2018       []   971007276755701760   \n",
       "3  Tue Nov 14 14:17:26 +0000 2017       []   930439536810844161   \n",
       "4  Fri Jun 02 09:30:52 +0000 2017       []   870573420790108160   \n",
       "\n",
       "   is_quote_status lang  retweet_count  \\\n",
       "0              0.0   pl            0.0   \n",
       "1              0.0   it            0.0   \n",
       "2              0.0   it            0.0   \n",
       "3              0.0   en            0.0   \n",
       "4              0.0   de            0.0   \n",
       "\n",
       "                                                text user_description  \\\n",
       "0                                @CarloCalenda Daje!                    \n",
       "1  Scarica Fare Soldi Guadagna Denaro. E' un'app ...                    \n",
       "2  @andreasso1951 @TraniCamilla Ahahahahahahahaha...                    \n",
       "3  @Ballack Only the losers enjoy the defeats of ...                    \n",
       "4  Zum 2. Jahrestag werden verschiedene Kampagnen...                    \n",
       "\n",
       "          user_id_str user_location         user_name  \\\n",
       "0  758072107981017089                Mario Bochicchio   \n",
       "1  758072107981017089                Mario Bochicchio   \n",
       "2  758072107981017089                Mario Bochicchio   \n",
       "3  758072107981017089                Mario Bochicchio   \n",
       "4  758072107981017089                Mario Bochicchio   \n",
       "\n",
       "                                          clean_text emojis  \\\n",
       "0                                              Daje!     []   \n",
       "1  Scarica Fare Soldi Guadagna Denaro. E' un'app ...     []   \n",
       "2  AhahahahahahahahahhahahahahaScelti perché \"dic...     []   \n",
       "3  Only the losers enjoy the defeats of those who...     []   \n",
       "4  Zum 2. Jahrestag werden verschiedene Kampagnen...     []   \n",
       "\n",
       "                                     translated_text  \n",
       "0                                             Gives!  \n",
       "1  Download Make Money Earn Money. It&#39;s a fre...  \n",
       "2  Ahahahahahahahahahhahahahaha Chosen because &q...  \n",
       "3  Only the losers enjoy the defeats of those who...  \n",
       "4  For the 2nd anniversary different campaigns ar...  "
      ]
     },
     "execution_count": 28,
     "metadata": {},
     "output_type": "execute_result"
    }
   ],
   "source": [
    "df.head()"
   ]
  }
 ],
 "metadata": {
  "kernelspec": {
   "display_name": "Python 3",
   "language": "python",
   "name": "python3"
  },
  "language_info": {
   "codemirror_mode": {
    "name": "ipython",
    "version": 3
   },
   "file_extension": ".py",
   "mimetype": "text/x-python",
   "name": "python",
   "nbconvert_exporter": "python",
   "pygments_lexer": "ipython3",
   "version": "3.7.4"
  }
 },
 "nbformat": 4,
 "nbformat_minor": 2
}
