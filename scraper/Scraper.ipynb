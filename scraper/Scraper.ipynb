{
 "cells": [
  {
   "cell_type": "code",
   "execution_count": 1,
   "metadata": {},
   "outputs": [],
   "source": [
    "# Import packages\n",
    "import pandas as pd\n",
    "import tweepy"
   ]
  },
  {
   "cell_type": "code",
   "execution_count": 2,
   "metadata": {},
   "outputs": [],
   "source": [
    "# Set authorization keys\n",
    "auth = tweepy.OAuthHandler('XXX', 'XXX')\n",
    "auth.set_access_token(\"XX-XX\", \n",
    "    \"XXX\")\n",
    "\n",
    "api = tweepy.API(auth, wait_on_rate_limit=True)"
   ]
  },
  {
   "cell_type": "code",
   "execution_count": 3,
   "metadata": {},
   "outputs": [],
   "source": [
    "imp_cols = ['created_at', 'text', 'truncated', 'geo', 'coordinates','place', 'id',\n",
    "            'contributors', 'is_quote_status', 'retweet_count', 'favorite_count', 'lang']\n",
    "nested_cols = {\n",
    "    'entities': ['hashtags', 'symbols'],\n",
    "    'metadata': ['iso_language_code'],\n",
    "    'user': ['location', 'description', 'followers_count', 'friends_count', 'verified', 'lang']\n",
    "}"
   ]
  },
  {
   "cell_type": "code",
   "execution_count": 4,
   "metadata": {},
   "outputs": [],
   "source": [
    "democrats_slug = 'house-democrats'\n",
    "democrats_owner_name = 'thedemocrats'\n",
    "\n",
    "republicans_slug = 'house-republicans'\n",
    "republicans_owner_name = 'HouseGOP'"
   ]
  },
  {
   "cell_type": "code",
   "execution_count": 5,
   "metadata": {},
   "outputs": [],
   "source": [
    "def flatten_twitter_json(tweet):\n",
    "    flattened_dict = {}\n",
    "    for key in tweet.keys():\n",
    "        if key in imp_cols:\n",
    "            flattened_dict[key] = tweet[key]\n",
    "        if key in nested_cols:\n",
    "            for name in nested_cols[key]:\n",
    "                flattened_dict[key+ '_' +name] = tweet[key][name]\n",
    "    return flattened_dict"
   ]
  },
  {
   "cell_type": "code",
   "execution_count": 6,
   "metadata": {},
   "outputs": [],
   "source": [
    "def get_list_timeline(slug, owner_name, n):\n",
    "    _max_queries = 100\n",
    "\n",
    "    tweets = tweet_batch = api.list_timeline(slug=slug,\n",
    "                                             owner_screen_name=owner_name,\n",
    "                                             count=100,\n",
    "                                             include_rts=False\n",
    "                                            )\n",
    "    ct = 1\n",
    "    while len(tweets) < n and ct < _max_queries:\n",
    "        tweet_batch = api.list_timeline(slug=slug, \n",
    "                                        owner_screen_name=owner_name,\n",
    "                                        count=100,\n",
    "                                        max_id=tweet_batch.max_id,\n",
    "                                        include_rts=False\n",
    "                                       )\n",
    "        tweets.extend(tweet_batch)\n",
    "        ct += 1\n",
    "    return tweets"
   ]
  },
  {
   "cell_type": "code",
   "execution_count": 7,
   "metadata": {},
   "outputs": [],
   "source": [
    "def get_df_from_slug(slug, owner_name, count):\n",
    "    list_tweets = get_list_timeline(slug, owner_name, 1000)\n",
    "        \n",
    "    list_tweets_json = [tweet._json for tweet in list_tweets]\n",
    "    list_tweets_flattened = [flatten_twitter_json(tweet) for tweet in list_tweets_json]\n",
    "    \n",
    "    return pd.DataFrame(list_tweets_flattened).set_index('id')"
   ]
  },
  {
   "cell_type": "code",
   "execution_count": 8,
   "metadata": {},
   "outputs": [],
   "source": [
    "df_democrats = get_df_from_slug(democrats_slug, democrats_owner_name, 1000)"
   ]
  },
  {
   "cell_type": "code",
   "execution_count": 9,
   "metadata": {},
   "outputs": [],
   "source": [
    "df_republicans = get_df_from_slug(republicans_slug, republicans_owner_name, 1000)"
   ]
  },
  {
   "cell_type": "code",
   "execution_count": 10,
   "metadata": {},
   "outputs": [
    {
     "name": "stdout",
     "output_type": "stream",
     "text": [
      "(1059, 19) (1062, 19)\n",
      "Index(['created_at', 'text', 'truncated', 'entities_hashtags',\n",
      "       'entities_symbols', 'user_location', 'user_description',\n",
      "       'user_followers_count', 'user_friends_count', 'user_verified',\n",
      "       'user_lang', 'geo', 'coordinates', 'place', 'contributors',\n",
      "       'is_quote_status', 'retweet_count', 'favorite_count', 'lang'],\n",
      "      dtype='object')\n"
     ]
    }
   ],
   "source": [
    "print(df_democrats.shape, df_republicans.shape)\n",
    "print(df_democrats.columns)"
   ]
  },
  {
   "cell_type": "code",
   "execution_count": 11,
   "metadata": {},
   "outputs": [
    {
     "name": "stdout",
     "output_type": "stream",
     "text": [
      "<class 'pandas.core.frame.DataFrame'>\n",
      "Int64Index: 1059 entries, 1180545258293063680 to 1180122014373351426\n",
      "Data columns (total 19 columns):\n",
      "created_at              1059 non-null object\n",
      "text                    1059 non-null object\n",
      "truncated               1059 non-null bool\n",
      "entities_hashtags       1059 non-null object\n",
      "entities_symbols        1059 non-null object\n",
      "user_location           1059 non-null object\n",
      "user_description        1059 non-null object\n",
      "user_followers_count    1059 non-null int64\n",
      "user_friends_count      1059 non-null int64\n",
      "user_verified           1059 non-null bool\n",
      "user_lang               0 non-null object\n",
      "geo                     0 non-null object\n",
      "coordinates             0 non-null object\n",
      "place                   43 non-null object\n",
      "contributors            0 non-null object\n",
      "is_quote_status         1059 non-null bool\n",
      "retweet_count           1059 non-null int64\n",
      "favorite_count          1059 non-null int64\n",
      "lang                    1059 non-null object\n",
      "dtypes: bool(3), int64(4), object(12)\n",
      "memory usage: 143.8+ KB\n"
     ]
    }
   ],
   "source": [
    "df_democrats.info()"
   ]
  },
  {
   "cell_type": "code",
   "execution_count": 12,
   "metadata": {},
   "outputs": [
    {
     "name": "stdout",
     "output_type": "stream",
     "text": [
      "<class 'pandas.core.frame.DataFrame'>\n",
      "Int64Index: 1062 entries, 1180545384478859264 to 1179813477239668736\n",
      "Data columns (total 19 columns):\n",
      "created_at              1062 non-null object\n",
      "text                    1062 non-null object\n",
      "truncated               1062 non-null bool\n",
      "entities_hashtags       1062 non-null object\n",
      "entities_symbols        1062 non-null object\n",
      "user_location           1062 non-null object\n",
      "user_description        1062 non-null object\n",
      "user_followers_count    1062 non-null int64\n",
      "user_friends_count      1062 non-null int64\n",
      "user_verified           1062 non-null bool\n",
      "user_lang               0 non-null object\n",
      "geo                     0 non-null object\n",
      "coordinates             0 non-null object\n",
      "place                   12 non-null object\n",
      "contributors            0 non-null object\n",
      "is_quote_status         1062 non-null bool\n",
      "retweet_count           1062 non-null int64\n",
      "favorite_count          1062 non-null int64\n",
      "lang                    1062 non-null object\n",
      "dtypes: bool(3), int64(4), object(12)\n",
      "memory usage: 144.2+ KB\n"
     ]
    }
   ],
   "source": [
    "df_republicans.info()"
   ]
  },
  {
   "cell_type": "code",
   "execution_count": 13,
   "metadata": {},
   "outputs": [
    {
     "data": {
      "text/html": [
       "<div>\n",
       "<style scoped>\n",
       "    .dataframe tbody tr th:only-of-type {\n",
       "        vertical-align: middle;\n",
       "    }\n",
       "\n",
       "    .dataframe tbody tr th {\n",
       "        vertical-align: top;\n",
       "    }\n",
       "\n",
       "    .dataframe thead th {\n",
       "        text-align: right;\n",
       "    }\n",
       "</style>\n",
       "<table border=\"1\" class=\"dataframe\">\n",
       "  <thead>\n",
       "    <tr style=\"text-align: right;\">\n",
       "      <th></th>\n",
       "      <th>created_at</th>\n",
       "      <th>text</th>\n",
       "      <th>truncated</th>\n",
       "      <th>entities_hashtags</th>\n",
       "      <th>entities_symbols</th>\n",
       "      <th>user_location</th>\n",
       "      <th>user_description</th>\n",
       "      <th>user_followers_count</th>\n",
       "      <th>user_friends_count</th>\n",
       "      <th>user_verified</th>\n",
       "      <th>user_lang</th>\n",
       "      <th>geo</th>\n",
       "      <th>coordinates</th>\n",
       "      <th>place</th>\n",
       "      <th>contributors</th>\n",
       "      <th>is_quote_status</th>\n",
       "      <th>retweet_count</th>\n",
       "      <th>favorite_count</th>\n",
       "      <th>lang</th>\n",
       "    </tr>\n",
       "    <tr>\n",
       "      <th>id</th>\n",
       "      <th></th>\n",
       "      <th></th>\n",
       "      <th></th>\n",
       "      <th></th>\n",
       "      <th></th>\n",
       "      <th></th>\n",
       "      <th></th>\n",
       "      <th></th>\n",
       "      <th></th>\n",
       "      <th></th>\n",
       "      <th></th>\n",
       "      <th></th>\n",
       "      <th></th>\n",
       "      <th></th>\n",
       "      <th></th>\n",
       "      <th></th>\n",
       "      <th></th>\n",
       "      <th></th>\n",
       "      <th></th>\n",
       "    </tr>\n",
       "  </thead>\n",
       "  <tbody>\n",
       "    <tr>\n",
       "      <td>1180545384478859264</td>\n",
       "      <td>Sat Oct 05 18:08:47 +0000 2019</td>\n",
       "      <td>ICYMI: 61 Members of Congress have cosponsored...</td>\n",
       "      <td>True</td>\n",
       "      <td>[]</td>\n",
       "      <td>[]</td>\n",
       "      <td>Arizona, USA</td>\n",
       "      <td>Representing Arizona's Fighting Fifth.</td>\n",
       "      <td>43102</td>\n",
       "      <td>1443</td>\n",
       "      <td>True</td>\n",
       "      <td>None</td>\n",
       "      <td>None</td>\n",
       "      <td>None</td>\n",
       "      <td>None</td>\n",
       "      <td>None</td>\n",
       "      <td>False</td>\n",
       "      <td>8</td>\n",
       "      <td>19</td>\n",
       "      <td>en</td>\n",
       "    </tr>\n",
       "    <tr>\n",
       "      <td>1180542322909548549</td>\n",
       "      <td>Sat Oct 05 17:56:37 +0000 2019</td>\n",
       "      <td>Congratulations to the 2019 Congressional Vete...</td>\n",
       "      <td>True</td>\n",
       "      <td>[]</td>\n",
       "      <td>[]</td>\n",
       "      <td>#TX31</td>\n",
       "      <td>U.S. Congressman proudly serving the 31st Dist...</td>\n",
       "      <td>15419</td>\n",
       "      <td>846</td>\n",
       "      <td>True</td>\n",
       "      <td>None</td>\n",
       "      <td>None</td>\n",
       "      <td>None</td>\n",
       "      <td>None</td>\n",
       "      <td>None</td>\n",
       "      <td>False</td>\n",
       "      <td>0</td>\n",
       "      <td>1</td>\n",
       "      <td>en</td>\n",
       "    </tr>\n",
       "    <tr>\n",
       "      <td>1180535462810787841</td>\n",
       "      <td>Sat Oct 05 17:29:22 +0000 2019</td>\n",
       "      <td>More moments from N. Houston/Montgomery County...</td>\n",
       "      <td>True</td>\n",
       "      <td>[]</td>\n",
       "      <td>[]</td>\n",
       "      <td>The Woodlands, Texas</td>\n",
       "      <td>Dad. Husband. Top Republican @WaysandMeansGOP....</td>\n",
       "      <td>49237</td>\n",
       "      <td>748</td>\n",
       "      <td>True</td>\n",
       "      <td>None</td>\n",
       "      <td>None</td>\n",
       "      <td>None</td>\n",
       "      <td>None</td>\n",
       "      <td>None</td>\n",
       "      <td>False</td>\n",
       "      <td>0</td>\n",
       "      <td>4</td>\n",
       "      <td>en</td>\n",
       "    </tr>\n",
       "    <tr>\n",
       "      <td>1180535448684367872</td>\n",
       "      <td>Sat Oct 05 17:29:18 +0000 2019</td>\n",
       "      <td>Celebrating 75 years at the Busy Bee Restauran...</td>\n",
       "      <td>False</td>\n",
       "      <td>[]</td>\n",
       "      <td>[]</td>\n",
       "      <td>Eastern/Southeastern Ohio</td>\n",
       "      <td>Proudly representing #Ohio's 6th Congressional...</td>\n",
       "      <td>36911</td>\n",
       "      <td>728</td>\n",
       "      <td>True</td>\n",
       "      <td>None</td>\n",
       "      <td>None</td>\n",
       "      <td>None</td>\n",
       "      <td>None</td>\n",
       "      <td>None</td>\n",
       "      <td>False</td>\n",
       "      <td>0</td>\n",
       "      <td>3</td>\n",
       "      <td>en</td>\n",
       "    </tr>\n",
       "    <tr>\n",
       "      <td>1180534029692612609</td>\n",
       "      <td>Sat Oct 05 17:23:40 +0000 2019</td>\n",
       "      <td>Imagine being accused of a crime and not havin...</td>\n",
       "      <td>True</td>\n",
       "      <td>[]</td>\n",
       "      <td>[]</td>\n",
       "      <td>Dickinson, ND and Washington, DC</td>\n",
       "      <td>I'm a lifelong, devoted North Dakotan and a ti...</td>\n",
       "      <td>9180</td>\n",
       "      <td>241</td>\n",
       "      <td>True</td>\n",
       "      <td>None</td>\n",
       "      <td>None</td>\n",
       "      <td>None</td>\n",
       "      <td>None</td>\n",
       "      <td>None</td>\n",
       "      <td>False</td>\n",
       "      <td>2</td>\n",
       "      <td>12</td>\n",
       "      <td>en</td>\n",
       "    </tr>\n",
       "  </tbody>\n",
       "</table>\n",
       "</div>"
      ],
      "text/plain": [
       "                                         created_at  \\\n",
       "id                                                    \n",
       "1180545384478859264  Sat Oct 05 18:08:47 +0000 2019   \n",
       "1180542322909548549  Sat Oct 05 17:56:37 +0000 2019   \n",
       "1180535462810787841  Sat Oct 05 17:29:22 +0000 2019   \n",
       "1180535448684367872  Sat Oct 05 17:29:18 +0000 2019   \n",
       "1180534029692612609  Sat Oct 05 17:23:40 +0000 2019   \n",
       "\n",
       "                                                                  text  \\\n",
       "id                                                                       \n",
       "1180545384478859264  ICYMI: 61 Members of Congress have cosponsored...   \n",
       "1180542322909548549  Congratulations to the 2019 Congressional Vete...   \n",
       "1180535462810787841  More moments from N. Houston/Montgomery County...   \n",
       "1180535448684367872  Celebrating 75 years at the Busy Bee Restauran...   \n",
       "1180534029692612609  Imagine being accused of a crime and not havin...   \n",
       "\n",
       "                     truncated entities_hashtags entities_symbols  \\\n",
       "id                                                                  \n",
       "1180545384478859264       True                []               []   \n",
       "1180542322909548549       True                []               []   \n",
       "1180535462810787841       True                []               []   \n",
       "1180535448684367872      False                []               []   \n",
       "1180534029692612609       True                []               []   \n",
       "\n",
       "                                        user_location  \\\n",
       "id                                                      \n",
       "1180545384478859264                      Arizona, USA   \n",
       "1180542322909548549                            #TX31    \n",
       "1180535462810787841              The Woodlands, Texas   \n",
       "1180535448684367872         Eastern/Southeastern Ohio   \n",
       "1180534029692612609  Dickinson, ND and Washington, DC   \n",
       "\n",
       "                                                      user_description  \\\n",
       "id                                                                       \n",
       "1180545384478859264             Representing Arizona's Fighting Fifth.   \n",
       "1180542322909548549  U.S. Congressman proudly serving the 31st Dist...   \n",
       "1180535462810787841  Dad. Husband. Top Republican @WaysandMeansGOP....   \n",
       "1180535448684367872  Proudly representing #Ohio's 6th Congressional...   \n",
       "1180534029692612609  I'm a lifelong, devoted North Dakotan and a ti...   \n",
       "\n",
       "                     user_followers_count  user_friends_count  user_verified  \\\n",
       "id                                                                             \n",
       "1180545384478859264                 43102                1443           True   \n",
       "1180542322909548549                 15419                 846           True   \n",
       "1180535462810787841                 49237                 748           True   \n",
       "1180535448684367872                 36911                 728           True   \n",
       "1180534029692612609                  9180                 241           True   \n",
       "\n",
       "                    user_lang   geo coordinates place contributors  \\\n",
       "id                                                                   \n",
       "1180545384478859264      None  None        None  None         None   \n",
       "1180542322909548549      None  None        None  None         None   \n",
       "1180535462810787841      None  None        None  None         None   \n",
       "1180535448684367872      None  None        None  None         None   \n",
       "1180534029692612609      None  None        None  None         None   \n",
       "\n",
       "                     is_quote_status  retweet_count  favorite_count lang  \n",
       "id                                                                        \n",
       "1180545384478859264            False              8              19   en  \n",
       "1180542322909548549            False              0               1   en  \n",
       "1180535462810787841            False              0               4   en  \n",
       "1180535448684367872            False              0               3   en  \n",
       "1180534029692612609            False              2              12   en  "
      ]
     },
     "execution_count": 13,
     "metadata": {},
     "output_type": "execute_result"
    }
   ],
   "source": [
    "df_republicans.head()"
   ]
  },
  {
   "cell_type": "code",
   "execution_count": 14,
   "metadata": {},
   "outputs": [],
   "source": [
    "df_republicans.to_csv('republican_tweets_raw.csv')\n",
    "df_democrats.to_csv('democrat_tweets_raw.csv')"
   ]
  },
  {
   "cell_type": "code",
   "execution_count": 15,
   "metadata": {},
   "outputs": [],
   "source": [
    "df_republicans_relevant = df_republicans[['text', \"truncated\"]]\n",
    "df_democrats_relevant = df_democrats[['text', 'truncated']]"
   ]
  },
  {
   "cell_type": "code",
   "execution_count": 16,
   "metadata": {},
   "outputs": [
    {
     "name": "stderr",
     "output_type": "stream",
     "text": [
      "/home/danailkrzhalovski/Uni/Cognitive_Behavioral_And_Social_Data/TwiterPolitics/lib/python3.7/site-packages/ipykernel_launcher.py:1: SettingWithCopyWarning: \n",
      "A value is trying to be set on a copy of a slice from a DataFrame.\n",
      "Try using .loc[row_indexer,col_indexer] = value instead\n",
      "\n",
      "See the caveats in the documentation: http://pandas.pydata.org/pandas-docs/stable/user_guide/indexing.html#returning-a-view-versus-a-copy\n",
      "  \"\"\"Entry point for launching an IPython kernel.\n"
     ]
    }
   ],
   "source": [
    "df_republicans_relevant['party'] = 1"
   ]
  },
  {
   "cell_type": "code",
   "execution_count": 17,
   "metadata": {},
   "outputs": [
    {
     "name": "stderr",
     "output_type": "stream",
     "text": [
      "/home/danailkrzhalovski/Uni/Cognitive_Behavioral_And_Social_Data/TwiterPolitics/lib/python3.7/site-packages/ipykernel_launcher.py:1: SettingWithCopyWarning: \n",
      "A value is trying to be set on a copy of a slice from a DataFrame.\n",
      "Try using .loc[row_indexer,col_indexer] = value instead\n",
      "\n",
      "See the caveats in the documentation: http://pandas.pydata.org/pandas-docs/stable/user_guide/indexing.html#returning-a-view-versus-a-copy\n",
      "  \"\"\"Entry point for launching an IPython kernel.\n"
     ]
    }
   ],
   "source": [
    "df_democrats_relevant['party'] = 0"
   ]
  },
  {
   "cell_type": "code",
   "execution_count": 18,
   "metadata": {},
   "outputs": [],
   "source": [
    "df_republicans_relevant.to_csv('republican_tweets.csv')\n",
    "df_democrats_relevant.to_csv('democrat_tweets.csv')"
   ]
  },
  {
   "cell_type": "code",
   "execution_count": null,
   "metadata": {},
   "outputs": [],
   "source": []
  }
 ],
 "metadata": {
  "kernelspec": {
   "display_name": "Python 3",
   "language": "python",
   "name": "python3"
  },
  "language_info": {
   "codemirror_mode": {
    "name": "ipython",
    "version": 3
   },
   "file_extension": ".py",
   "mimetype": "text/x-python",
   "name": "python",
   "nbconvert_exporter": "python",
   "pygments_lexer": "ipython3",
   "version": "3.7.4"
  }
 },
 "nbformat": 4,
 "nbformat_minor": 2
}
