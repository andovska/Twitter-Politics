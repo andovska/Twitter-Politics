{
 "cells": [
  {
   "cell_type": "code",
   "execution_count": 1,
   "metadata": {},
   "outputs": [],
   "source": [
    "import tweepy\n",
    "import emoji\n",
    "import regex\n",
    "import pandas as pd\n",
    "\n",
    "from googletrans import Translator"
   ]
  },
  {
   "cell_type": "code",
   "execution_count": 2,
   "metadata": {},
   "outputs": [],
   "source": [
    "# Set authorization keys\n",
    "auth = tweepy.OAuthHandler('m0Buhp16DQJgVVH3iUGxtd8xb', '7q6HnOlEnBRfyLnq4amra7eGcsFfEAq5YS3ao85eS8SLr3R6O8')\n",
    "auth.set_access_token(\"1179698216071258112-CqXjSp4NbLYgxC0jmZZRWdtb8gWwjk\", \n",
    "    \"93p6a16YhBBtPerW7xJiSYu5pDcwTyYlAPfKKMWPVKAHp\")\n",
    "\n",
    "api = tweepy.API(auth, wait_on_rate_limit=True)"
   ]
  },
  {
   "cell_type": "code",
   "execution_count": 3,
   "metadata": {},
   "outputs": [],
   "source": [
    "M5S_NAME = '@Mov5Stelle'\n",
    "LEGA_NAME = '@LegaSalvini'\n",
    "PADE_NAME = '@pdnetwork'\n",
    "FORZA_NAME ='@forza_italia'\n",
    "\n",
    "party_names = [M5S_NAME, LEGA_NAME, PADE_NAME, FORZA_NAME]\n",
    "\n",
    "sample_user_id = 2149131133\n",
    "\n",
    "translator = Translator()"
   ]
  },
  {
   "cell_type": "code",
   "execution_count": 4,
   "metadata": {},
   "outputs": [],
   "source": [
    "def get_followers(name='@pdnetwork', size=1):\n",
    "    ids = []\n",
    "    stop = 0\n",
    "    for page in tweepy.Cursor(api.followers_ids, screen_name=\"@pdnetwork\").pages():\n",
    "        if stop>size:\n",
    "            break\n",
    "\n",
    "        stop+=1\n",
    "        ids.extend(page)\n",
    "    return ids"
   ]
  },
  {
   "cell_type": "code",
   "execution_count": 5,
   "metadata": {},
   "outputs": [],
   "source": [
    "def get_tweets_from_user(user_id):\n",
    "    tweets = api.user_timeline(user_id)\n",
    "    tweets_info = []\n",
    "    tweet_info_needed = ['created_at', 'text', 'geo', 'coordinates', 'place',\n",
    "                         'is_quote_status', 'retweet_count', 'possibly_sensitive', 'lang'\n",
    "                        ]\n",
    "    user_info_needed = ['name', 'location', 'description']\n",
    "    \n",
    "    for tweet in tweets:\n",
    "        to_append = {}\n",
    "        for info in tweet_info_needed:\n",
    "            to_append[info] = tweet._json[info]\n",
    "        \n",
    "        to_append ['hashtags'] = tweet._json['entities']['hashtags']\n",
    "        \n",
    "        for info in user_info_needed:\n",
    "            to_append['user_' + info] = tweet._json['user'][info]\n",
    "        \n",
    "        tweets_info.append(to_append)\n",
    "        \n",
    "    return tweets_info"
   ]
  },
  {
   "cell_type": "code",
   "execution_count": 6,
   "metadata": {},
   "outputs": [],
   "source": [
    "def is_user_politicaly_active(tweets):\n",
    "    if len(tweets) < 5:\n",
    "        return False\n",
    "    return True"
   ]
  },
  {
   "cell_type": "code",
   "execution_count": 29,
   "metadata": {},
   "outputs": [],
   "source": [
    "def translate_tweet(tweet_text):\n",
    "    return translator.translate(tweet_text)"
   ]
  },
  {
   "cell_type": "code",
   "execution_count": 8,
   "metadata": {},
   "outputs": [],
   "source": [
    "tweets = get_tweets_from_user(sample_user_id)"
   ]
  },
  {
   "cell_type": "code",
   "execution_count": 52,
   "metadata": {},
   "outputs": [],
   "source": [
    "tr = translate_tweet(tweets[0]['text'][60:])"
   ]
  },
  {
   "cell_type": "code",
   "execution_count": 47,
   "metadata": {},
   "outputs": [
    {
     "data": {
      "text/plain": [
       "<googletrans.models.Translated at 0x7fac3eaae490>"
      ]
     },
     "execution_count": 47,
     "metadata": {},
     "output_type": "execute_result"
    }
   ],
   "source": [
    "translator.translate(str(tweets[0]['text'][:59]))"
   ]
  },
  {
   "cell_type": "code",
   "execution_count": 57,
   "metadata": {},
   "outputs": [
    {
     "data": {
      "text/plain": [
       "'🔺'"
      ]
     },
     "execution_count": 57,
     "metadata": {},
     "output_type": "execute_result"
    }
   ],
   "source": [
    "tweets[0]['text'][59]"
   ]
  },
  {
   "cell_type": "code",
   "execution_count": null,
   "metadata": {},
   "outputs": [],
   "source": []
  }
 ],
 "metadata": {
  "kernelspec": {
   "display_name": "Python 3",
   "language": "python",
   "name": "python3"
  },
  "language_info": {
   "codemirror_mode": {
    "name": "ipython",
    "version": 3
   },
   "file_extension": ".py",
   "mimetype": "text/x-python",
   "name": "python",
   "nbconvert_exporter": "python",
   "pygments_lexer": "ipython3",
   "version": "3.7.4"
  }
 },
 "nbformat": 4,
 "nbformat_minor": 2
}
