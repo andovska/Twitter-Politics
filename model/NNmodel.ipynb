{
 "cells": [
  {
   "cell_type": "code",
   "execution_count": 1,
   "metadata": {},
   "outputs": [
    {
     "name": "stderr",
     "output_type": "stream",
     "text": [
      "Using TensorFlow backend.\n"
     ]
    }
   ],
   "source": [
    "import numpy as np\n",
    "import pandas as pd\n",
    "import matplotlib.pyplot as plt\n",
    "%matplotlib inline\n",
    "\n",
    "from functions import prepare_data\n",
    "\n",
    "from sklearn.utils import shuffle\n",
    "from sklearn.feature_extraction.text import HashingVectorizer, CountVectorizer, TfidfVectorizer\n",
    "\n",
    "from keras.models import Sequential\n",
    "from keras.layers import Dense\n",
    "from keras.callbacks import EarlyStopping"
   ]
  },
  {
   "cell_type": "code",
   "execution_count": 2,
   "metadata": {},
   "outputs": [],
   "source": [
    "data = prepare_data()\n",
    "data = shuffle(data)"
   ]
  },
  {
   "cell_type": "code",
   "execution_count": 37,
   "metadata": {},
   "outputs": [],
   "source": [
    "model = Sequential()\n",
    "\n",
    "model.add(Dense(64, activation='relu', input_shape=(15535,)))\n",
    "model.add(Dense(32, activation='relu'))\n",
    "\n",
    "model.add(Dense(2, activation='sigmoid'))\n",
    "\n",
    "model.compile(optimizer='adam', loss='binary_crossentropy', metrics=['accuracy'])"
   ]
  },
  {
   "cell_type": "code",
   "execution_count": 4,
   "metadata": {},
   "outputs": [
    {
     "data": {
      "text/html": [
       "<div>\n",
       "<style scoped>\n",
       "    .dataframe tbody tr th:only-of-type {\n",
       "        vertical-align: middle;\n",
       "    }\n",
       "\n",
       "    .dataframe tbody tr th {\n",
       "        vertical-align: top;\n",
       "    }\n",
       "\n",
       "    .dataframe thead th {\n",
       "        text-align: right;\n",
       "    }\n",
       "</style>\n",
       "<table border=\"1\" class=\"dataframe\">\n",
       "  <thead>\n",
       "    <tr style=\"text-align: right;\">\n",
       "      <th></th>\n",
       "      <th>text</th>\n",
       "      <th>truncated</th>\n",
       "      <th>party</th>\n",
       "    </tr>\n",
       "    <tr>\n",
       "      <th>id</th>\n",
       "      <th></th>\n",
       "      <th></th>\n",
       "      <th></th>\n",
       "    </tr>\n",
       "  </thead>\n",
       "  <tbody>\n",
       "    <tr>\n",
       "      <td>1179881196936937473</td>\n",
       "      <td>(1 of 2) Socialist healthcare proposals like M...</td>\n",
       "      <td>True</td>\n",
       "      <td>1</td>\n",
       "    </tr>\n",
       "    <tr>\n",
       "      <td>1180261270412500994</td>\n",
       "      <td>Kicked off #MFGDay19 early this week with a vi...</td>\n",
       "      <td>True</td>\n",
       "      <td>1</td>\n",
       "    </tr>\n",
       "    <tr>\n",
       "      <td>1180128732675235846</td>\n",
       "      <td>Real results, despite every obstacle by the #D...</td>\n",
       "      <td>False</td>\n",
       "      <td>1</td>\n",
       "    </tr>\n",
       "    <tr>\n",
       "      <td>1179927918073520128</td>\n",
       "      <td>#Police #ThinBlueLine \\n\\nHorrible. Four polic...</td>\n",
       "      <td>True</td>\n",
       "      <td>1</td>\n",
       "    </tr>\n",
       "    <tr>\n",
       "      <td>1179856200088915973</td>\n",
       "      <td>First the Green New Deal does away with  Now  ...</td>\n",
       "      <td>True</td>\n",
       "      <td>1</td>\n",
       "    </tr>\n",
       "  </tbody>\n",
       "</table>\n",
       "</div>"
      ],
      "text/plain": [
       "                                                                  text  \\\n",
       "id                                                                       \n",
       "1179881196936937473  (1 of 2) Socialist healthcare proposals like M...   \n",
       "1180261270412500994  Kicked off #MFGDay19 early this week with a vi...   \n",
       "1180128732675235846  Real results, despite every obstacle by the #D...   \n",
       "1179927918073520128  #Police #ThinBlueLine \\n\\nHorrible. Four polic...   \n",
       "1179856200088915973  First the Green New Deal does away with  Now  ...   \n",
       "\n",
       "                     truncated  party  \n",
       "id                                     \n",
       "1179881196936937473       True      1  \n",
       "1180261270412500994       True      1  \n",
       "1180128732675235846      False      1  \n",
       "1179927918073520128       True      1  \n",
       "1179856200088915973       True      1  "
      ]
     },
     "execution_count": 4,
     "metadata": {},
     "output_type": "execute_result"
    }
   ],
   "source": [
    "data.head()"
   ]
  },
  {
   "cell_type": "code",
   "execution_count": 5,
   "metadata": {},
   "outputs": [
    {
     "data": {
      "text/html": [
       "<div>\n",
       "<style scoped>\n",
       "    .dataframe tbody tr th:only-of-type {\n",
       "        vertical-align: middle;\n",
       "    }\n",
       "\n",
       "    .dataframe tbody tr th {\n",
       "        vertical-align: top;\n",
       "    }\n",
       "\n",
       "    .dataframe thead th {\n",
       "        text-align: right;\n",
       "    }\n",
       "</style>\n",
       "<table border=\"1\" class=\"dataframe\">\n",
       "  <thead>\n",
       "    <tr style=\"text-align: right;\">\n",
       "      <th></th>\n",
       "      <th>0</th>\n",
       "      <th>1</th>\n",
       "    </tr>\n",
       "    <tr>\n",
       "      <th>id</th>\n",
       "      <th></th>\n",
       "      <th></th>\n",
       "    </tr>\n",
       "  </thead>\n",
       "  <tbody>\n",
       "    <tr>\n",
       "      <td>1179881196936937473</td>\n",
       "      <td>0</td>\n",
       "      <td>1</td>\n",
       "    </tr>\n",
       "    <tr>\n",
       "      <td>1180261270412500994</td>\n",
       "      <td>0</td>\n",
       "      <td>1</td>\n",
       "    </tr>\n",
       "    <tr>\n",
       "      <td>1180128732675235846</td>\n",
       "      <td>0</td>\n",
       "      <td>1</td>\n",
       "    </tr>\n",
       "    <tr>\n",
       "      <td>1179927918073520128</td>\n",
       "      <td>0</td>\n",
       "      <td>1</td>\n",
       "    </tr>\n",
       "    <tr>\n",
       "      <td>1179856200088915973</td>\n",
       "      <td>0</td>\n",
       "      <td>1</td>\n",
       "    </tr>\n",
       "  </tbody>\n",
       "</table>\n",
       "</div>"
      ],
      "text/plain": [
       "                     0  1\n",
       "id                       \n",
       "1179881196936937473  0  1\n",
       "1180261270412500994  0  1\n",
       "1180128732675235846  0  1\n",
       "1179927918073520128  0  1\n",
       "1179856200088915973  0  1"
      ]
     },
     "execution_count": 5,
     "metadata": {},
     "output_type": "execute_result"
    }
   ],
   "source": [
    "X = data['text']\n",
    "y = pd.get_dummies(data['party'])\n",
    "\n",
    "y.head()"
   ]
  },
  {
   "cell_type": "code",
   "execution_count": 8,
   "metadata": {},
   "outputs": [],
   "source": [
    "vectorizer = TfidfVectorizer(ngram_range=(1, 2))\n",
    "transformer = vectorizer.fit_transform(X)"
   ]
  },
  {
   "cell_type": "code",
   "execution_count": 10,
   "metadata": {},
   "outputs": [],
   "source": [
    "processed = pd.DataFrame(data = transformer.toarray(), index=X.index)"
   ]
  },
  {
   "cell_type": "code",
   "execution_count": 38,
   "metadata": {},
   "outputs": [
    {
     "name": "stderr",
     "output_type": "stream",
     "text": [
      "/home/danailkrzhalovski/Uni/Cognitive_Behavioral_And_Social_Data/TwiterPolitics/lib/python3.7/site-packages/ipykernel_launcher.py:1: FutureWarning: Method .as_matrix will be removed in a future version. Use .values instead.\n",
      "  \"\"\"Entry point for launching an IPython kernel.\n"
     ]
    }
   ],
   "source": [
    "predictors = processed.as_matrix()\n",
    "target = y.values\n",
    "\n",
    "es_rounds = EarlyStopping(patience=15)"
   ]
  },
  {
   "cell_type": "code",
   "execution_count": 39,
   "metadata": {
    "scrolled": true
   },
   "outputs": [
    {
     "name": "stdout",
     "output_type": "stream",
     "text": [
      "Train on 872 samples, validate on 218 samples\n",
      "Epoch 1/50\n",
      "872/872 [==============================] - 1s 958us/step - loss: 0.6920 - accuracy: 0.5694 - val_loss: 0.6899 - val_accuracy: 0.6055\n",
      "Epoch 2/50\n",
      "872/872 [==============================] - 1s 987us/step - loss: 0.6443 - accuracy: 0.9644 - val_loss: 0.6627 - val_accuracy: 0.6445\n",
      "Epoch 3/50\n",
      "872/872 [==============================] - 1s 1ms/step - loss: 0.4414 - accuracy: 0.9828 - val_loss: 0.6084 - val_accuracy: 0.6812\n",
      "Epoch 4/50\n",
      "872/872 [==============================] - 1s 1ms/step - loss: 0.1523 - accuracy: 0.9914 - val_loss: 0.5888 - val_accuracy: 0.6697\n",
      "Epoch 5/50\n",
      "872/872 [==============================] - 1s 913us/step - loss: 0.0457 - accuracy: 0.9920 - val_loss: 0.5866 - val_accuracy: 0.6972\n",
      "Epoch 6/50\n",
      "872/872 [==============================] - 1s 1ms/step - loss: 0.0243 - accuracy: 0.9931 - val_loss: 0.5991 - val_accuracy: 0.6743\n",
      "Epoch 7/50\n",
      "872/872 [==============================] - 1s 1ms/step - loss: 0.0179 - accuracy: 0.9925 - val_loss: 0.6095 - val_accuracy: 0.6651\n",
      "Epoch 8/50\n",
      "872/872 [==============================] - 1s 1ms/step - loss: 0.0155 - accuracy: 0.9925 - val_loss: 0.6211 - val_accuracy: 0.6583\n",
      "Epoch 9/50\n",
      "872/872 [==============================] - 1s 964us/step - loss: 0.0139 - accuracy: 0.9931 - val_loss: 0.6178 - val_accuracy: 0.6697\n",
      "Epoch 10/50\n",
      "872/872 [==============================] - 1s 826us/step - loss: 0.0129 - accuracy: 0.9925 - val_loss: 0.6245 - val_accuracy: 0.6606\n",
      "Epoch 11/50\n",
      "872/872 [==============================] - 1s 1ms/step - loss: 0.0122 - accuracy: 0.9908 - val_loss: 0.6332 - val_accuracy: 0.6560\n",
      "Epoch 12/50\n",
      "872/872 [==============================] - 1s 849us/step - loss: 0.0117 - accuracy: 0.9925 - val_loss: 0.6338 - val_accuracy: 0.6651\n",
      "Epoch 13/50\n",
      "872/872 [==============================] - 1s 1ms/step - loss: 0.0113 - accuracy: 0.9931 - val_loss: 0.6485 - val_accuracy: 0.6560\n",
      "Epoch 14/50\n",
      "872/872 [==============================] - 1s 1ms/step - loss: 0.0112 - accuracy: 0.9931 - val_loss: 0.6473 - val_accuracy: 0.6560\n",
      "Epoch 15/50\n",
      "872/872 [==============================] - 1s 972us/step - loss: 0.0113 - accuracy: 0.9925 - val_loss: 0.6381 - val_accuracy: 0.6927\n",
      "Epoch 16/50\n",
      "872/872 [==============================] - 1s 1ms/step - loss: 0.0107 - accuracy: 0.9931 - val_loss: 0.6567 - val_accuracy: 0.6537\n",
      "Epoch 17/50\n",
      "872/872 [==============================] - 1s 1ms/step - loss: 0.0108 - accuracy: 0.9931 - val_loss: 0.6637 - val_accuracy: 0.6537\n",
      "Epoch 18/50\n",
      "872/872 [==============================] - 1s 987us/step - loss: 0.0109 - accuracy: 0.9920 - val_loss: 0.6472 - val_accuracy: 0.6881\n",
      "Epoch 19/50\n",
      "872/872 [==============================] - 1s 968us/step - loss: 0.0110 - accuracy: 0.9931 - val_loss: 0.7171 - val_accuracy: 0.6284\n",
      "Epoch 20/50\n",
      "872/872 [==============================] - 1s 1ms/step - loss: 0.0106 - accuracy: 0.9931 - val_loss: 0.6693 - val_accuracy: 0.6537\n"
     ]
    }
   ],
   "source": [
    "history = model.fit(predictors, target, validation_split=0.2, epochs=50, callbacks=[es_rounds])"
   ]
  },
  {
   "cell_type": "code",
   "execution_count": 18,
   "metadata": {},
   "outputs": [
    {
     "data": {
      "text/plain": [
       "[1.3140237025164683,\n",
       " 1.1007265929782062,\n",
       " 1.0711664858214351,\n",
       " 1.087492067879493,\n",
       " 0.9667674505382503,\n",
       " 0.8551034293043505,\n",
       " 0.9045065171128019,\n",
       " 0.9323241141957974,\n",
       " 0.9493515316499482,\n",
       " 0.9721517448031575]"
      ]
     },
     "execution_count": 18,
     "metadata": {},
     "output_type": "execute_result"
    }
   ],
   "source": [
    "history.history['val_loss']"
   ]
  },
  {
   "cell_type": "code",
   "execution_count": 35,
   "metadata": {},
   "outputs": [
    {
     "data": {
      "image/png": "[encoded data removed]",
      "text/plain": [
       "<Figure size 432x288 with 1 Axes>"
      ]
     },
     "metadata": {
      "needs_background": "light"
     },
     "output_type": "display_data"
    }
   ],
   "source": [
    "plt.plot(history.history['accuracy'])\n",
    "plt.plot(history.history['val_accuracy'])\n",
    "plt.title('model accuracy')\n",
    "plt.ylabel('accuracy')\n",
    "plt.xlabel('epoch')\n",
    "plt.legend(['train', 'test'], loc='upper left')\n",
    "plt.show()"
   ]
  },
  {
   "cell_type": "code",
   "execution_count": 36,
   "metadata": {},
   "outputs": [
    {
     "data": {
      "image/png": "[encoded data removed]",
      "text/plain": [
       "<Figure size 432x288 with 1 Axes>"
      ]
     },
     "metadata": {
      "needs_background": "light"
     },
     "output_type": "display_data"
    }
   ],
   "source": [
    "plt.plot(history.history['loss'])\n",
    "plt.plot(history.history['val_loss'])\n",
    "plt.title('model loss')\n",
    "plt.ylabel('loss')\n",
    "plt.xlabel('epoch')\n",
    "plt.legend(['train', 'test'], loc='upper left')\n",
    "plt.show()"
   ]
  },
  {
   "cell_type": "code",
   "execution_count": null,
   "metadata": {},
   "outputs": [],
   "source": []
  }
 ],
 "metadata": {
  "kernelspec": {
   "display_name": "Python 3",
   "language": "python",
   "name": "python3"
  },
  "language_info": {
   "codemirror_mode": {
    "name": "ipython",
    "version": 3
   },
   "file_extension": ".py",
   "mimetype": "text/x-python",
   "name": "python",
   "nbconvert_exporter": "python",
   "pygments_lexer": "ipython3",
   "version": "3.7.4"
  }
 },
 "nbformat": 4,
 "nbformat_minor": 2
}
